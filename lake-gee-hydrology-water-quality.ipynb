{
  "nbformat": 4,
  "nbformat_minor": 0,
  "metadata": {
    "colab": {
      "provenance": [],
      "authorship_tag": "ABX9TyOK39jhkTfaaLrqyotGtAgY",
      "include_colab_link": true
    },
    "kernelspec": {
      "name": "python3",
      "display_name": "Python 3"
    },
    "language_info": {
      "name": "python"
    }
  },
  "cells": [
    {
      "cell_type": "markdown",
      "metadata": {
        "id": "view-in-github",
        "colab_type": "text"
      },
      "source": [
        "<a href=\"https://colab.research.google.com/github/earth-obs/lake-gee-hydrology-water-quality/blob/main/lake-gee-hydrology-water-quality.ipynb\" target=\"_parent\"><img src=\"https://colab.research.google.com/assets/colab-badge.svg\" alt=\"Open In Colab\"/></a>"
      ]
    },
    {
      "cell_type": "code",
      "execution_count": null,
      "metadata": {
        "id": "Q9VLYqdMsXfJ"
      },
      "outputs": [],
      "source": [
        "#########################################################################\n",
        "# Assessing long-term hydrological dynamics and water quality           #\n",
        "# using Google Earth Engine: A case study of Ilgın Lake (1985-2024)     #\n",
        "#\t\t\t\t\t\t\t\t\t\t\t\t\t\t\t\t\t\t                                    #\n",
        "#\tOmer Faruk Atiz (c) 01.03.2025\t\t\t\t\t\t\t\t\t\t                    #\n",
        "#\toatiz@erbakan.edu.tr                                                  #\n",
        "#\tNecmettin Erbakan University, Geomatics Engineering\t\t\t\t\t          #\n",
        "#                                                                       #\n",
        "# Citation:                                                             #\n",
        "#                                                                       #\n",
        "#########################################################################"
      ]
    },
    {
      "cell_type": "code",
      "source": [
        "#########################################################################\n",
        "# Import Earth Engine\n",
        "import ee\n",
        "import geemap\n",
        "ee.Authenticate()\n",
        "ee.Initialize(project='your-project-id') #your-project-id\n",
        "import eerepr\n",
        "eerepr.initialize()\n",
        "\n",
        "# Import other libraries\n",
        "!pip install pymannkendall scipy pingouin\n",
        "import numpy as np\n",
        "import pandas as pd\n",
        "import matplotlib.pyplot as plt\n",
        "import seaborn as sns\n",
        "from scipy.stats import linregress, pearsonr\n",
        "import statsmodels.api as sm\n",
        "import pymannkendall as mk\n",
        "import pingouin as pg\n",
        "from tabulate import tabulate\n",
        "#########################################################################"
      ],
      "metadata": {
        "id": "SeTWA-DyszgA"
      },
      "execution_count": null,
      "outputs": []
    },
    {
      "cell_type": "code",
      "source": [
        "# Select your region of interest by filtering HydroAtlas database\n",
        "# lake_poly = ee.FeatureCollection(\"projects/sat-io/open-datasets/HydroAtlas/LakeAtlas/LakeAtlas_v10_polygon\")\n",
        "# roi_feature = lake_poly.filter(ee.Filter.eq('Hylak_id', 14698)).first()\n",
        "# roi = roi_feature.geometry()\n",
        "# or Manually give boundaries\n",
        "\n",
        "roi = ee.Geometry.Polygon(\n",
        "        [[[31.8347, 38.3991],\n",
        "          [31.8347, 38.3032],\n",
        "          [31.9171, 38.3032],\n",
        "          [31.9171, 38.3991]]])"
      ],
      "metadata": {
        "colab": {
          "base_uri": "https://localhost:8080/",
          "height": 17
        },
        "id": "9Y4DL10Ls2FM",
        "outputId": "1398deef-b380-447f-d96c-0b18149c9fc8"
      },
      "execution_count": 2,
      "outputs": [
        {
          "output_type": "display_data",
          "data": {
            "text/plain": [
              "<IPython.core.display.HTML object>"
            ],
            "text/html": [
              "\n",
              "            <style>\n",
              "                .geemap-dark {\n",
              "                    --jp-widgets-color: white;\n",
              "                    --jp-widgets-label-color: white;\n",
              "                    --jp-ui-font-color1: white;\n",
              "                    --jp-layout-color2: #454545;\n",
              "                    background-color: #383838;\n",
              "                }\n",
              "\n",
              "                .geemap-dark .jupyter-button {\n",
              "                    --jp-layout-color3: #383838;\n",
              "                }\n",
              "\n",
              "                .geemap-colab {\n",
              "                    background-color: var(--colab-primary-surface-color, white);\n",
              "                }\n",
              "\n",
              "                .geemap-colab .jupyter-button {\n",
              "                    --jp-layout-color3: var(--colab-primary-surface-color, white);\n",
              "                }\n",
              "            </style>\n",
              "            "
            ]
          },
          "metadata": {}
        }
      ]
    },
    {
      "cell_type": "code",
      "source": [
        "START_YEAR = 1985\n",
        "END_YEAR = 2024\n",
        "START_MONTH = 1\n",
        "END_MONTH = 12\n",
        "ALLOWED_MAX_CLOUD_COVER = 20"
      ],
      "metadata": {
        "colab": {
          "base_uri": "https://localhost:8080/",
          "height": 17
        },
        "id": "C56Bic5XtHnd",
        "outputId": "405a4014-3bfa-41c8-b712-8137771456dc"
      },
      "execution_count": 3,
      "outputs": [
        {
          "output_type": "display_data",
          "data": {
            "text/plain": [
              "<IPython.core.display.HTML object>"
            ],
            "text/html": [
              "\n",
              "            <style>\n",
              "                .geemap-dark {\n",
              "                    --jp-widgets-color: white;\n",
              "                    --jp-widgets-label-color: white;\n",
              "                    --jp-ui-font-color1: white;\n",
              "                    --jp-layout-color2: #454545;\n",
              "                    background-color: #383838;\n",
              "                }\n",
              "\n",
              "                .geemap-dark .jupyter-button {\n",
              "                    --jp-layout-color3: #383838;\n",
              "                }\n",
              "\n",
              "                .geemap-colab {\n",
              "                    background-color: var(--colab-primary-surface-color, white);\n",
              "                }\n",
              "\n",
              "                .geemap-colab .jupyter-button {\n",
              "                    --jp-layout-color3: var(--colab-primary-surface-color, white);\n",
              "                }\n",
              "            </style>\n",
              "            "
            ]
          },
          "metadata": {}
        }
      ]
    },
    {
      "cell_type": "code",
      "source": [
        "\"\"\"\n",
        "Bit 0: Fill\n",
        "  0: Image data\n",
        "  1: Fill data\n",
        "Bit 2: Cirrus\n",
        "  0: Cirrus Confidence: no confidence level set or Low Confidence\n",
        "  1: High confidence cirrus\n",
        "Bit 3: Cloud\n",
        "  0: Cloud confidence is not high\n",
        "  1: High confidence cloud\n",
        "Bit 4: Cloud Shadow\n",
        "  0: Cloud Shadow Confidence is not high\n",
        "  1: High confidence cloud shadow\n",
        "Bit 5: Snow\n",
        "  0: Snow/Ice Confidence is not high\n",
        "  1: High confidence snow cover\n",
        "\"\"\"\n",
        "def qa_mask_tm_etm(image):\n",
        "  qa = image.select('QA_PIXEL')\n",
        "  mask = qa.bitwiseAnd(1 << 0).eq(0) \\\n",
        "    .And(qa.bitwiseAnd(1 << 3).eq(0)) \\\n",
        "    .And(qa.bitwiseAnd(1 << 4).eq(0)) \\\n",
        "    .And(qa.bitwiseAnd(1 << 5).eq(0))\n",
        "  return image.updateMask(mask)\n",
        "\n",
        "def qa_mask_oli(image):\n",
        "  qa = image.select('QA_PIXEL')\n",
        "  mask = qa.bitwiseAnd(1 << 0).eq(0) \\\n",
        "    .And(qa.bitwiseAnd(1 << 2).eq(0)) \\\n",
        "    .And(qa.bitwiseAnd(1 << 3).eq(0)) \\\n",
        "    .And(qa.bitwiseAnd(1 << 4).eq(0)) \\\n",
        "    .And(qa.bitwiseAnd(1 << 5).eq(0))\n",
        "  return image.updateMask(mask)\n",
        "\n",
        "def fillETM(image):\n",
        "  img_fill = image.focal_mean(1, 'square', 'pixels', 8)\n",
        "  return img_fill.blend(image).copyProperties(image, image.propertyNames())\n",
        "\n",
        "\"\"\"\n",
        "The functions for Dynamic thrsholding with Otsu method\n",
        "\"\"\"\n",
        "def make_historgram(image):\n",
        "  histogram = image.reduceRegion(**{\n",
        "    'reducer': ee.Reducer.histogram(255),\n",
        "    'geometry': roi,\n",
        "    'scale': 30,\n",
        "    'bestEffort': True\n",
        "    })\n",
        "  return image.set('histogram', histogram.get('MNDWI'))\n",
        "\n",
        "def otsu_thres(image):\n",
        "  histogram = image.get('histogram')\n",
        "  counts = ee.Array(ee.Dictionary(histogram).get('histogram'))\n",
        "  means = ee.Array(ee.Dictionary(histogram).get('bucketMeans'))\n",
        "\n",
        "  total = counts.reduce(ee.Reducer.sum(), [0]).get([0])\n",
        "  sum = means.multiply(counts).reduce(ee.Reducer.sum(), [0]).get([0])\n",
        "  mean = sum.divide(total)\n",
        "\n",
        "  def func_bss(i):\n",
        "    aCounts = counts.slice(0, 0, i)\n",
        "    aCount = aCounts.reduce(ee.Reducer.sum(), [0]).get([0])\n",
        "    aMeans = means.slice(0, 0, i)\n",
        "    aMean = aMeans.multiply(aCounts).reduce(ee.Reducer.sum(), [0]).get([0]).divide(aCount)\n",
        "    bCount = total.subtract(aCount)\n",
        "    bMean = sum.subtract(aCount.multiply(aMean)).divide(bCount)\n",
        "    return aCount.multiply(aMean.subtract(mean).pow(2)).add(bCount.multiply(bMean.subtract(mean).pow(2)))\n",
        "\n",
        "  bss = ee.List.sequence(1, means.length().get([0])).map(func_bss)\n",
        "  threshold = means.sort(bss).get([-1])\n",
        "\n",
        "  return image.set('threshold', threshold)\n",
        "\n",
        "def calculate_water_area(image):\n",
        "  \"\"\"\n",
        "  Calculates water area in hectare unit.\n",
        "  If you want different units eg. km^2 change .divide(1e4) to 1e6\n",
        "  \"\"\"\n",
        "  threshold = ee.Number(image.get('threshold'))\n",
        "  water_mask = image.select('MNDWI').gt(threshold)\n",
        "  area = water_mask.multiply(ee.Image.pixelArea().divide(1e4)).reduceRegion(**{\n",
        "    'reducer': ee.Reducer.sum(),\n",
        "    'geometry': roi,\n",
        "    'scale': 30\n",
        "    }).get('MNDWI')\n",
        "\n",
        "  return image.set('water_area', area)\n",
        "\n",
        "def create_water_mask(image):\n",
        "  \"\"\"\n",
        "  Classifies MNDWI into 1: water, 0: non-water and masks other than water\n",
        "  \"\"\"\n",
        "  threshold = ee.Number(image.get('threshold'))\n",
        "  water_mask = image.select('MNDWI').gt(threshold)\n",
        "\n",
        "  return water_mask.copyProperties(image, image.propertyNames())\n",
        "\n",
        "def export_image_collection(coll, descriptions):\n",
        "  \"\"\"\n",
        "  The wrapped geemap export image collection to drive function to set output folder, crs etc.\n",
        "\n",
        "  Input:\n",
        "    image (ee.ImageCollection): ImageCollection to be exported\n",
        "    descriptions (list): The list of descriptions of images to pass filename and GEE task name\n",
        "  Output:\n",
        "    ee.batch.Task: Earth Engine export task that automatically starts\n",
        "  Note:\n",
        "    The status of export tasks can be seen at GEE Task Manager\n",
        "    (code.earthengine.google.com/tasks) or Cloud Console Tasks\n",
        "    page (console.cloud.google.com/earth-engine/tasks)\n",
        "  \"\"\"\n",
        "  geemap.ee_export_image_collection_to_drive(\n",
        "    ee_object = coll,\n",
        "    folder = 'foss4ge_results',\n",
        "    descriptions = descriptions,\n",
        "    region = roi,\n",
        "    scale = 30\n",
        "    # scale = 30,  # optional crs can be selected\n",
        "    # crs = 'EPSG:5255'\n",
        "    )"
      ],
      "metadata": {
        "colab": {
          "base_uri": "https://localhost:8080/",
          "height": 17
        },
        "id": "QTruf_DCtTIh",
        "outputId": "c3c676de-d876-4988-a10e-93a00360bad3"
      },
      "execution_count": 4,
      "outputs": [
        {
          "output_type": "display_data",
          "data": {
            "text/plain": [
              "<IPython.core.display.HTML object>"
            ],
            "text/html": [
              "\n",
              "            <style>\n",
              "                .geemap-dark {\n",
              "                    --jp-widgets-color: white;\n",
              "                    --jp-widgets-label-color: white;\n",
              "                    --jp-ui-font-color1: white;\n",
              "                    --jp-layout-color2: #454545;\n",
              "                    background-color: #383838;\n",
              "                }\n",
              "\n",
              "                .geemap-dark .jupyter-button {\n",
              "                    --jp-layout-color3: #383838;\n",
              "                }\n",
              "\n",
              "                .geemap-colab {\n",
              "                    background-color: var(--colab-primary-surface-color, white);\n",
              "                }\n",
              "\n",
              "                .geemap-colab .jupyter-button {\n",
              "                    --jp-layout-color3: var(--colab-primary-surface-color, white);\n",
              "                }\n",
              "            </style>\n",
              "            "
            ]
          },
          "metadata": {}
        }
      ]
    },
    {
      "cell_type": "code",
      "source": [
        "# Long term annual Landsat 5/7/8 composites\n",
        "# Variable 1: Annual Median MNDWI (Xu, 2006)\n",
        "# Variable 2: Annual Median NDTI (Lacaux et al, 2007)\n",
        "# Variable 3: Annual Median NDCI (Mishra and Mishra, 2012)\n",
        "# Unit: Range [-1, +1]\n",
        "\n",
        "l5_coll = (ee.ImageCollection('LANDSAT/LT05/C02/T1_TOA')\n",
        "  .filter(ee.Filter.calendarRange(START_MONTH, END_MONTH, 'month'))\n",
        "  .filterDate('1985-01-01', '2011-12-31')\n",
        "  .filter(ee.Filter.eq('WRS_PATH', 178))\n",
        "  .filter(ee.Filter.eq('WRS_ROW', 33))\n",
        "  .filter(ee.Filter.lte('CLOUD_COVER', ALLOWED_MAX_CLOUD_COVER))\n",
        "  .select(['B1', 'B2', 'B3', 'B4', 'B5', 'QA_PIXEL'], ['Blue', 'Green', 'Red', 'NIR', 'SWIR1', 'QA_PIXEL']) # select B2 and B4 as green and nir\n",
        "  .map(qa_mask_tm_etm))\n",
        "\n",
        "l7_coll = (ee.ImageCollection('LANDSAT/LE07/C02/T1_TOA')\n",
        "  .filter(ee.Filter.calendarRange(START_MONTH, END_MONTH, 'month'))\n",
        "  .filterDate('2012-01-01', '2012-12-31')\n",
        "  .filter(ee.Filter.eq('WRS_PATH', 178))\n",
        "  .filter(ee.Filter.eq('WRS_ROW', 33))\n",
        "  .filter(ee.Filter.lte('CLOUD_COVER', ALLOWED_MAX_CLOUD_COVER))\n",
        "  .select(['B1', 'B2', 'B3', 'B4', 'B5', 'QA_PIXEL'], ['Blue', 'Green', 'Red', 'NIR', 'SWIR1', 'QA_PIXEL']) # select B2 and B4 as green and nir\n",
        "  .map(qa_mask_tm_etm)\n",
        "  .map(fillETM))\n",
        "\n",
        "l8_coll = (ee.ImageCollection('LANDSAT/LC08/C02/T1_TOA')\n",
        "  .filter(ee.Filter.calendarRange(START_MONTH, END_MONTH, 'month'))\n",
        "  .filterDate('2013-01-01', '2024-12-31')\n",
        "  .filter(ee.Filter.eq('WRS_PATH', 178))\n",
        "  .filter(ee.Filter.eq('WRS_ROW', 33))\n",
        "  .filter(ee.Filter.lte('CLOUD_COVER', ALLOWED_MAX_CLOUD_COVER))\n",
        "  .select(['B2', 'B3', 'B4', 'B5', 'B6', 'QA_PIXEL'], ['Blue', 'Green', 'Red', 'NIR', 'SWIR1', 'QA_PIXEL']) # select L8 Oli B3 and B5 as green and nir\n",
        "  .map(qa_mask_oli))\n",
        "\n",
        "landsat_coll = ee.ImageCollection(l5_coll.merge(l7_coll.merge(l8_coll)))\n",
        "\n",
        "def create_annual_composites(year):\n",
        "  median_image = landsat_coll.filter(ee.Filter.calendarRange(year, year, 'year')).select(['Blue', 'Green', 'Red', 'NIR', 'SWIR1']).median()\n",
        "  return median_image.clip(roi).set({'system:time_start': ee.Date.fromYMD(year, 1, 1).millis(),\n",
        "    'year': year})\n",
        "\n",
        "median_coll = ee.ImageCollection.fromImages(ee.List.sequence(START_YEAR, END_YEAR).map(create_annual_composites))\n",
        "\n",
        "def compute_mndwi(year):\n",
        "  median_image = median_coll.filter(ee.Filter.calendarRange(year, year, 'year')).select(['Green', 'SWIR1']).first()\n",
        "  mndwi = median_image.normalizedDifference(['Green', 'SWIR1']).rename('MNDWI') #mNDWI\n",
        "  return mndwi.set({'system:time_start': ee.Date.fromYMD(year, 1, 1).millis(),\n",
        "    'year': year})\n",
        "mndwi_coll = ee.ImageCollection.fromImages(ee.List.sequence(START_YEAR, END_YEAR).map(compute_mndwi))\n",
        "mndwi_area = mndwi_coll.map(make_historgram).map(otsu_thres).map(calculate_water_area)\n",
        "mndwi_water = mndwi_coll.map(make_historgram).map(otsu_thres).map(create_water_mask)\n",
        "\n",
        "# to print water areas use below\n",
        "# mndwi_area.aggregate_array('water_area')\n",
        "\n",
        "def compute_ndti(year):\n",
        "  median_image = median_coll.filter(ee.Filter.calendarRange(year, year, 'year')).select(['Red', 'Green']).first()\n",
        "  ndti = median_image.normalizedDifference(['Red', 'Green']).rename('NDTI') #NDTI\n",
        "  return ndti.set({'system:time_start': ee.Date.fromYMD(year, 1, 1).millis(),\n",
        "    'year': year})\n",
        "ndti_coll = ee.ImageCollection.fromImages(ee.List.sequence(START_YEAR, END_YEAR).map(compute_ndti))\n",
        "\n",
        "def compute_ndci(year):\n",
        "  median_image = median_coll.filter(ee.Filter.calendarRange(year, year, 'year')).select(['NIR', 'Red']).first()\n",
        "  ndci = median_image.normalizedDifference(['NIR', 'Red']).rename('NDCI') #NDCI\n",
        "  return ndci.set({'system:time_start': ee.Date.fromYMD(year, 1, 1).millis(),\n",
        "    'year': year})\n",
        "\n",
        "ndci_coll = ee.ImageCollection.fromImages(ee.List.sequence(START_YEAR, END_YEAR).map(compute_ndci))\n",
        "\n",
        "join = ee.Join.inner()\n",
        "filter = ee.Filter.equals(\n",
        "    leftField='year',\n",
        "    rightField='year'\n",
        ")\n",
        "joined_ndti = join.apply(\n",
        "    primary=ndti_coll,\n",
        "    secondary=mndwi_water,\n",
        "    condition=filter\n",
        ")\n",
        "\n",
        "joined_ndci = join.apply(\n",
        "    primary=ndci_coll,\n",
        "    secondary=mndwi_water,\n",
        "    condition=filter\n",
        ")\n",
        "\n",
        "def apply_water_mask(feature):\n",
        "  primary = ee.Image(feature.get('primary'))\n",
        "  mask = ee.Image(feature.get('secondary'))\n",
        "\n",
        "  return primary.updateMask(mask)\n",
        "\n",
        "water_masked_ndti = ee.ImageCollection(joined_ndti.map(apply_water_mask))\n",
        "water_masked_ndci = ee.ImageCollection(joined_ndci.map(apply_water_mask))"
      ],
      "metadata": {
        "colab": {
          "base_uri": "https://localhost:8080/",
          "height": 17
        },
        "id": "P4PHnSa5twrj",
        "outputId": "895f495f-3769-4757-ed30-cc6260054efe"
      },
      "execution_count": 5,
      "outputs": [
        {
          "output_type": "display_data",
          "data": {
            "text/plain": [
              "<IPython.core.display.HTML object>"
            ],
            "text/html": [
              "\n",
              "            <style>\n",
              "                .geemap-dark {\n",
              "                    --jp-widgets-color: white;\n",
              "                    --jp-widgets-label-color: white;\n",
              "                    --jp-ui-font-color1: white;\n",
              "                    --jp-layout-color2: #454545;\n",
              "                    background-color: #383838;\n",
              "                }\n",
              "\n",
              "                .geemap-dark .jupyter-button {\n",
              "                    --jp-layout-color3: #383838;\n",
              "                }\n",
              "\n",
              "                .geemap-colab {\n",
              "                    background-color: var(--colab-primary-surface-color, white);\n",
              "                }\n",
              "\n",
              "                .geemap-colab .jupyter-button {\n",
              "                    --jp-layout-color3: var(--colab-primary-surface-color, white);\n",
              "                }\n",
              "            </style>\n",
              "            "
            ]
          },
          "metadata": {}
        }
      ]
    },
    {
      "cell_type": "code",
      "source": [
        "landsat_coll.size()"
      ],
      "metadata": {
        "colab": {
          "base_uri": "https://localhost:8080/",
          "height": 68
        },
        "id": "-EKHNwHuIamy",
        "outputId": "5b9e9b16-c732-45dc-a5a6-ca5a0352595b"
      },
      "execution_count": 6,
      "outputs": [
        {
          "output_type": "display_data",
          "data": {
            "text/plain": [
              "<IPython.core.display.HTML object>"
            ],
            "text/html": [
              "\n",
              "            <style>\n",
              "                .geemap-dark {\n",
              "                    --jp-widgets-color: white;\n",
              "                    --jp-widgets-label-color: white;\n",
              "                    --jp-ui-font-color1: white;\n",
              "                    --jp-layout-color2: #454545;\n",
              "                    background-color: #383838;\n",
              "                }\n",
              "\n",
              "                .geemap-dark .jupyter-button {\n",
              "                    --jp-layout-color3: #383838;\n",
              "                }\n",
              "\n",
              "                .geemap-colab {\n",
              "                    background-color: var(--colab-primary-surface-color, white);\n",
              "                }\n",
              "\n",
              "                .geemap-colab .jupyter-button {\n",
              "                    --jp-layout-color3: var(--colab-primary-surface-color, white);\n",
              "                }\n",
              "            </style>\n",
              "            "
            ]
          },
          "metadata": {}
        },
        {
          "output_type": "execute_result",
          "data": {
            "text/plain": [
              "<ee.ee_number.Number at 0x7f4e0c3b8a10>"
            ],
            "text/html": [
              "<div><style>:root {\n",
              "  --font-color-primary: var(--jp-content-font-color0, rgba(0, 0, 0, 1));\n",
              "  --font-color-secondary: var(--jp-content-font-color2, rgba(0, 0, 0, 0.7));\n",
              "  --font-color-accent: rgba(123, 31, 162, 1);\n",
              "  --border-color: var(--jp-border-color2, #e0e0e0);\n",
              "  --background-color: var(--jp-layout-color0, white);\n",
              "  --background-color-row-even: var(--jp-layout-color1, white);\n",
              "  --background-color-row-odd: var(--jp-layout-color2, #eeeeee);\n",
              "}\n",
              "\n",
              "html[theme=\"dark\"],\n",
              "body[data-theme=\"dark\"],\n",
              "body.vscode-dark {\n",
              "  --font-color-primary: rgba(255, 255, 255, 1);\n",
              "  --font-color-secondary: rgba(255, 255, 255, 0.7);\n",
              "  --font-color-accent: rgb(173, 132, 190);\n",
              "  --border-color: #2e2e2e;\n",
              "  --background-color: #111111;\n",
              "  --background-color-row-even: #111111;\n",
              "  --background-color-row-odd: #313131;\n",
              "}\n",
              "\n",
              ".eerepr {\n",
              "  padding: 1em;\n",
              "  line-height: 1.5em;\n",
              "  min-width: 300px;\n",
              "  max-width: 1200px;\n",
              "  overflow-y: scroll;\n",
              "  max-height: 600px;\n",
              "  border: 1px solid var(--border-color);\n",
              "  font-family: monospace;\n",
              "  font-size: 14px;\n",
              "}\n",
              "\n",
              ".eerepr li {\n",
              "  list-style-type: none;\n",
              "  margin: 0;\n",
              "}\n",
              "\n",
              ".eerepr ul {\n",
              "  padding-left: 1.5em !important;\n",
              "  margin: 0;\n",
              "}\n",
              "\n",
              ".eerepr > ul {\n",
              "  padding-left: 0 !important;\n",
              "}\n",
              "\n",
              ".eerepr summary {\n",
              "  color: var(--font-color-secondary);\n",
              "  cursor: pointer;\n",
              "  margin: 0;\n",
              "}\n",
              "\n",
              ".eerepr summary:hover {\n",
              "  color: var(--font-color-primary);\n",
              "  background-color: var(--background-color-row-odd)\n",
              "}\n",
              "\n",
              ".ee-k {\n",
              "  color: var(--font-color-accent);\n",
              "  margin-right: 6px;\n",
              "}\n",
              "\n",
              ".ee-v {\n",
              "  color: var(--font-color-primary);\n",
              "}\n",
              "\n",
              ".eerepr details > summary::before {\n",
              "  content: '▼';\n",
              "  display: inline-block;\n",
              "  margin-right: 6px;\n",
              "  transition: transform 0.2s;\n",
              "  transform: rotate(-90deg);\n",
              "}\n",
              "\n",
              ".eerepr details[open] > summary::before {\n",
              "  transform: rotate(0deg);\n",
              "}\n",
              "\n",
              ".eerepr details summary::-webkit-details-marker {\n",
              "  display:none;\n",
              "}\n",
              "\n",
              ".eerepr details summary {\n",
              "  list-style-type: none;\n",
              "}\n",
              "</style><div class='eerepr'><ul><li><span class='ee-v'>347</span></li></ul></div></div>"
            ]
          },
          "metadata": {},
          "execution_count": 6
        }
      ]
    },
    {
      "cell_type": "code",
      "source": [
        "# Long term annual ERA5 precipitations\n",
        "# Variable: Annual Total Prec\n",
        "# Unit: mm\n",
        "era5_prec = (ee.ImageCollection('ECMWF/ERA5_LAND/MONTHLY_AGGR')\n",
        "  .filter(ee.Filter.calendarRange(START_MONTH, END_MONTH, 'month'))\n",
        "  .select('total_precipitation_sum'))\n",
        "\n",
        "def prec_composite(year):\n",
        "  img = era5_prec.filter(ee.Filter.calendarRange(year, year, 'year')).sum().multiply(1000) \\\n",
        "    .set({'system:time_start': ee.Date.fromYMD(year, 1, 1).millis(),\n",
        "    'year': year})\n",
        "  return img.clip(roi)\n",
        "\n",
        "prec_coll = ee.ImageCollection.fromImages(ee.List.sequence(START_YEAR, END_YEAR).map(prec_composite))"
      ],
      "metadata": {
        "colab": {
          "base_uri": "https://localhost:8080/",
          "height": 17
        },
        "id": "I6hknM0QtzYe",
        "outputId": "40524fe1-cd14-4b09-9f0f-5f53f8d64db8"
      },
      "execution_count": 7,
      "outputs": [
        {
          "output_type": "display_data",
          "data": {
            "text/plain": [
              "<IPython.core.display.HTML object>"
            ],
            "text/html": [
              "\n",
              "            <style>\n",
              "                .geemap-dark {\n",
              "                    --jp-widgets-color: white;\n",
              "                    --jp-widgets-label-color: white;\n",
              "                    --jp-ui-font-color1: white;\n",
              "                    --jp-layout-color2: #454545;\n",
              "                    background-color: #383838;\n",
              "                }\n",
              "\n",
              "                .geemap-dark .jupyter-button {\n",
              "                    --jp-layout-color3: #383838;\n",
              "                }\n",
              "\n",
              "                .geemap-colab {\n",
              "                    background-color: var(--colab-primary-surface-color, white);\n",
              "                }\n",
              "\n",
              "                .geemap-colab .jupyter-button {\n",
              "                    --jp-layout-color3: var(--colab-primary-surface-color, white);\n",
              "                }\n",
              "            </style>\n",
              "            "
            ]
          },
          "metadata": {}
        }
      ]
    },
    {
      "cell_type": "code",
      "source": [
        "# Long term annual ERA5 Temperature\n",
        "# Variable: Annual Mean Temperature\n",
        "# Unit: Celcius degree\n",
        "era5_temp = (ee.ImageCollection('ECMWF/ERA5_LAND/MONTHLY_AGGR')\n",
        "  .filter(ee.Filter.calendarRange(START_MONTH, END_MONTH, 'month'))\n",
        "  .select('temperature_2m'))\n",
        "\n",
        "def temp_composite(year):\n",
        "  img = era5_temp.filter(ee.Filter.calendarRange(year, year, 'year')).mean().subtract(273.15) \\\n",
        "    .set({'system:time_start': ee.Date.fromYMD(year, 1, 1).millis(),\n",
        "    'year': year})\n",
        "  return img.clip(roi)\n",
        "\n",
        "temp_coll = ee.ImageCollection.fromImages(ee.List.sequence(START_YEAR, END_YEAR).map(temp_composite))"
      ],
      "metadata": {
        "colab": {
          "base_uri": "https://localhost:8080/",
          "height": 17
        },
        "id": "XXp0rb4mtz6D",
        "outputId": "3def76fa-2c31-44f0-aa5d-a0f57f85c568"
      },
      "execution_count": 8,
      "outputs": [
        {
          "output_type": "display_data",
          "data": {
            "text/plain": [
              "<IPython.core.display.HTML object>"
            ],
            "text/html": [
              "\n",
              "            <style>\n",
              "                .geemap-dark {\n",
              "                    --jp-widgets-color: white;\n",
              "                    --jp-widgets-label-color: white;\n",
              "                    --jp-ui-font-color1: white;\n",
              "                    --jp-layout-color2: #454545;\n",
              "                    background-color: #383838;\n",
              "                }\n",
              "\n",
              "                .geemap-dark .jupyter-button {\n",
              "                    --jp-layout-color3: #383838;\n",
              "                }\n",
              "\n",
              "                .geemap-colab {\n",
              "                    background-color: var(--colab-primary-surface-color, white);\n",
              "                }\n",
              "\n",
              "                .geemap-colab .jupyter-button {\n",
              "                    --jp-layout-color3: var(--colab-primary-surface-color, white);\n",
              "                }\n",
              "            </style>\n",
              "            "
            ]
          },
          "metadata": {}
        }
      ]
    },
    {
      "cell_type": "code",
      "source": [
        "def calculate_era5_mean(band_name):\n",
        "  def wrap_image(image):\n",
        "    mean_value = image.reduceRegion(\n",
        "      reducer = ee.Reducer.mean(),\n",
        "      geometry = roi,\n",
        "      scale = 11132\n",
        "      ).get(band_name)\n",
        "    return image.set('mean_value', mean_value)\n",
        "  return wrap_image\n",
        "\n",
        "prec_coll_mean = prec_coll.map(calculate_era5_mean('total_precipitation_sum'))\n",
        "prec_list = prec_coll_mean.aggregate_array('mean_value').getInfo()\n",
        "water_prec = np.array(prec_list)\n",
        "\n",
        "temp_coll_mean = temp_coll.map(calculate_era5_mean('temperature_2m'))\n",
        "temp_list = temp_coll_mean.aggregate_array('mean_value').getInfo()\n",
        "water_temp = np.array(temp_list)"
      ],
      "metadata": {
        "colab": {
          "base_uri": "https://localhost:8080/",
          "height": 17
        },
        "id": "V3XzYIiAt5em",
        "outputId": "fd87350b-8aa7-4bd1-e16c-be90ebdf1c5c"
      },
      "execution_count": 9,
      "outputs": [
        {
          "output_type": "display_data",
          "data": {
            "text/plain": [
              "<IPython.core.display.HTML object>"
            ],
            "text/html": [
              "\n",
              "            <style>\n",
              "                .geemap-dark {\n",
              "                    --jp-widgets-color: white;\n",
              "                    --jp-widgets-label-color: white;\n",
              "                    --jp-ui-font-color1: white;\n",
              "                    --jp-layout-color2: #454545;\n",
              "                    background-color: #383838;\n",
              "                }\n",
              "\n",
              "                .geemap-dark .jupyter-button {\n",
              "                    --jp-layout-color3: #383838;\n",
              "                }\n",
              "\n",
              "                .geemap-colab {\n",
              "                    background-color: var(--colab-primary-surface-color, white);\n",
              "                }\n",
              "\n",
              "                .geemap-colab .jupyter-button {\n",
              "                    --jp-layout-color3: var(--colab-primary-surface-color, white);\n",
              "                }\n",
              "            </style>\n",
              "            "
            ]
          },
          "metadata": {}
        }
      ]
    },
    {
      "cell_type": "code",
      "source": [
        "def calculate_landsat_mean(band_name):\n",
        "  def wrap_image(image):\n",
        "    imageMasked = image.updateMask(image.gt(0)) # Mask values lower than zero\n",
        "    mean_value = imageMasked.reduceRegion(\n",
        "      reducer = ee.Reducer.mean(),\n",
        "      geometry = roi,\n",
        "      scale = 30\n",
        "      ).get(band_name)\n",
        "    return image.set('mean_value', mean_value)\n",
        "  return wrap_image\n",
        "\n",
        "ndti_coll_mean = water_masked_ndti.map(calculate_landsat_mean('NDTI'))\n",
        "ndti_list = ndti_coll_mean.aggregate_array('mean_value').getInfo()\n",
        "water_ndti = np.array(ndti_list)\n",
        "\n",
        "ndci_coll_mean = water_masked_ndci.map(calculate_landsat_mean('NDCI'))\n",
        "ndci_list = ndci_coll_mean.aggregate_array('mean_value').getInfo()\n",
        "water_ndci = np.array(ndci_list)"
      ],
      "metadata": {
        "colab": {
          "base_uri": "https://localhost:8080/",
          "height": 17
        },
        "id": "VkyQG3Upt6ET",
        "outputId": "680d8bc7-df9a-46f7-f656-eec022b2690f"
      },
      "execution_count": 10,
      "outputs": [
        {
          "output_type": "display_data",
          "data": {
            "text/plain": [
              "<IPython.core.display.HTML object>"
            ],
            "text/html": [
              "\n",
              "            <style>\n",
              "                .geemap-dark {\n",
              "                    --jp-widgets-color: white;\n",
              "                    --jp-widgets-label-color: white;\n",
              "                    --jp-ui-font-color1: white;\n",
              "                    --jp-layout-color2: #454545;\n",
              "                    background-color: #383838;\n",
              "                }\n",
              "\n",
              "                .geemap-dark .jupyter-button {\n",
              "                    --jp-layout-color3: #383838;\n",
              "                }\n",
              "\n",
              "                .geemap-colab {\n",
              "                    background-color: var(--colab-primary-surface-color, white);\n",
              "                }\n",
              "\n",
              "                .geemap-colab .jupyter-button {\n",
              "                    --jp-layout-color3: var(--colab-primary-surface-color, white);\n",
              "                }\n",
              "            </style>\n",
              "            "
            ]
          },
          "metadata": {}
        }
      ]
    },
    {
      "cell_type": "code",
      "source": [
        "vis_year = 2024\n",
        "\n",
        "Map = geemap.Map()\n",
        "\n",
        "Map.addLayer(median_coll.filter(ee.Filter.eq('year', vis_year)).select(['Red', 'Green', 'Blue']), {'min': 0, 'max': 0.4}, 'Landsat TrueColor321')\n",
        "Map.addLayer(mndwi_coll.filter(ee.Filter.eq('year', vis_year)), {'min': -1, 'max': 1, 'palette': ['white', 'blue']}, 'MNDWI', False)\n",
        "Map.addLayer(mndwi_water.filter(ee.Filter.eq('year', vis_year)), {'min': 0, 'max': 1, 'palette': ['white', 'black']}, 'Water Mask', False)\n",
        "Map.addLayer(water_masked_ndti.filter(ee.Filter.eq('year', vis_year)), {'min': -1, 'max': 1, 'palette': ['blue', 'green', 'yellow', 'orange', 'red']}, 'NDTI Masked', False)\n",
        "Map.addLayer(water_masked_ndti.filter(ee.Filter.eq('year', vis_year)).first().gt(0.2), {'min': 0, 'max': 1, 'palette': ['white', 'red']}, 'High Turbidity > 0.2', False)\n",
        "Map.addLayer(water_masked_ndci.filter(ee.Filter.eq('year', vis_year)), {'min': -1, 'max': 1, 'palette': ['blue', 'green', 'yellow', 'orange', 'red']}, 'NDCI Masked', False)\n",
        "Map.addLayer(water_masked_ndci.filter(ee.Filter.eq('year', vis_year)).first().gt(0.3), {'min': 0, 'max': 1, 'palette': ['white', 'green']}, 'High Chl-a > 0.3', False)\n",
        "\n",
        "Map.centerObject(roi, 12)\n",
        "Map"
      ],
      "metadata": {
        "id": "Uf4viIPzuSBI"
      },
      "execution_count": null,
      "outputs": []
    },
    {
      "cell_type": "code",
      "source": [
        "# Pull area list from earth engine to client-side\n",
        "water_area_list = mndwi_area.aggregate_array('water_area').getInfo()\n",
        "water_thrs_list = mndwi_area.aggregate_array('threshold').getInfo()\n",
        "years = list(range(START_YEAR, END_YEAR + 1))\n",
        "\n",
        "water_area = np.array(water_area_list)\n",
        "water_thrs = np.array(water_thrs_list)\n",
        "years = np.array(years)\n",
        "\n",
        "print(f'Data Length: {len(water_area)} years')"
      ],
      "metadata": {
        "id": "0E0aRF99xaVB"
      },
      "execution_count": null,
      "outputs": []
    },
    {
      "cell_type": "code",
      "source": [
        "water_area_list"
      ],
      "metadata": {
        "id": "Mz_SNTYfOgjp"
      },
      "execution_count": null,
      "outputs": []
    },
    {
      "cell_type": "code",
      "source": [
        "# Mann-Kendall/Theil Sen slope\n",
        "ndwi_result = mk.original_test(water_area)\n",
        "prec_result = mk.original_test(water_prec)\n",
        "temp_result = mk.original_test(water_temp)\n",
        "ndti_result = mk.original_test(water_ndti)\n",
        "ndci_result = mk.original_test(water_ndci)\n",
        "\n",
        "data = [\n",
        "    [\"Water Area\", ndwi_result.trend, f\"{ndwi_result.slope}\", f\"{ndwi_result.p}\", f\"{ndwi_result.z}\", f\"{1 - ndwi_result.p:.1%}\"],\n",
        "    [\"Precipitation\", prec_result.trend, f\"{prec_result.slope}\", f\"{prec_result.p}\", f\"{prec_result.z}\", f\"{1 - prec_result.p:.1%}\"],\n",
        "    [\"Temperature\", temp_result.trend, f\"{temp_result.slope}\", f\"{temp_result.p}\", f\"{temp_result.z}\", f\"{1 - temp_result.p:.1%}\"],\n",
        "    [\"Turbidity\", ndti_result.trend, f\"{ndti_result.slope}\", f\"{ndti_result.p}\", f\"{ndti_result.z}\", f\"{1 - ndti_result.p:.1%}\"],\n",
        "    [\"Chlorophyll-a\", ndci_result.trend, f\"{ndci_result.slope}\", f\"{ndci_result.p}\", f\"{ndci_result.z}\", f\"{1 - ndci_result.p:.1%}\"]\n",
        "]\n",
        "\n",
        "headers = [\"Parameter\", \"Trend\", \"Sens Slope\", \"P-Value\", \"Z-Score\", \"Confidence\"]\n",
        "\n",
        "print(tabulate(data, headers=headers, tablefmt=\"simple\", floatfmt=\".4f\"))\n"
      ],
      "metadata": {
        "id": "pRz9QGqZGFdR"
      },
      "execution_count": null,
      "outputs": []
    },
    {
      "cell_type": "code",
      "source": [
        "df = pd.DataFrame({\n",
        "  'year': years,\n",
        "  'water_area': water_area,\n",
        "  'water_prec': water_prec,\n",
        "  'water_temp': water_temp,\n",
        "  'water_ndti': water_ndti,\n",
        "  'water_ndci': water_ndci\n",
        "  }).set_index('year')\n",
        "\n",
        "# show\n",
        "print(df.head())"
      ],
      "metadata": {
        "id": "qVsRQKQ1Ja8v"
      },
      "execution_count": null,
      "outputs": []
    },
    {
      "cell_type": "code",
      "source": [
        "# Calculate Pearson correlation matrix\n",
        "corr_matrix = df[['water_area', 'water_prec', 'water_temp', 'water_ndti', 'water_ndci']].corr(method='pearson')\n",
        "\n",
        "print(tabulate(corr_matrix, headers='keys', tablefmt='simple_grid', floatfmt='.4f'))"
      ],
      "metadata": {
        "id": "2krbiC71Jjkv"
      },
      "execution_count": null,
      "outputs": []
    },
    {
      "cell_type": "code",
      "source": [
        "# Exploring lagged effects\n",
        "# 1 year lagged precipitation effect\n",
        "df['prec_lag1'] = df['water_prec'].shift(1)\n",
        "# Area-Prec Lagged Correlation\n",
        "r_lag1, p_lag1 = pearsonr(df['prec_lag1'].dropna(), df['water_area'].iloc[1:])\n",
        "print(f\"1-year lagged correlation with Prec: {r_lag1:.2f} (p={p_lag1:.4f})\")\n",
        "\n",
        "# 1 year lagged temperature effect\n",
        "df['temp_lag1'] = df['water_temp'].shift(1)\n",
        "# Area-Temp Lagged Correlation\n",
        "r_lag1, p_lag1 = pearsonr(df['temp_lag1'].dropna(), df['water_area'].iloc[1:])\n",
        "print(f\"1-year lagged correlation with Temp: {r_lag1:.2f} (p={p_lag1:.4f})\")\n",
        "\n",
        "# EXample output\n",
        "# 1-year lagged correlation with WaterArea-Prec: 0.34 (p=0.0327)\n",
        "# 1-year lagged correlation with WaterArea-Temp: -0.22 (p=0.1747)"
      ],
      "metadata": {
        "id": "0HOylfPXNYl3"
      },
      "execution_count": null,
      "outputs": []
    },
    {
      "cell_type": "code",
      "source": [
        "# Partial Correlation Coefficient (PCC) Analysis\n",
        "\n",
        "# PCC for WaterArea-Temp (controlling the effect of Prec)\n",
        "partial_corr_temp = pg.partial_corr(data=df, x='water_temp', y='water_area', covar='water_prec')\n",
        "# PCC for WaterArea-Prec (controlling the effect of Temp)\n",
        "partial_corr_prec = pg.partial_corr(data=df, x='water_prec', y='water_area', covar='water_temp')\n",
        "# PCC for WaterArea-Prec(Lagged-1yr) (controlling the effect of Temp)\n",
        "partial_corr_prec_lagged_1 = pg.partial_corr(data=df, x='prec_lag1', y='water_area', covar='water_temp')\n",
        "\n",
        "# PCC for NDCI-Temp (controlling the effect of Prec)\n",
        "partial_corr_temp_ndci = pg.partial_corr(data=df, x='water_temp', y='water_ndci', covar='water_prec')\n",
        "# PCC for NDCI-Prec (controlling the effect of Temp)\n",
        "partial_corr_prec_ndci = pg.partial_corr(data=df, x='water_prec', y='water_ndci', covar='water_temp')\n",
        "# PCC for NDCI-Prec(Lagged-1yr) (controlling the effect of Temp)\n",
        "partial_corr_prec_lagged_1_ndci = pg.partial_corr(data=df, x='prec_lag1', y='water_ndci', covar='water_temp')\n",
        "\n",
        "# PCC results for water area\n",
        "headers = [\"Comparison\", \"r\", \"CI95%\", \"p-val\", \"n\"]\n",
        "\n",
        "table_data_area = [\n",
        "    [\"Area-Temp\",\n",
        "     partial_corr_temp[\"r\"].values[0],\n",
        "     partial_corr_temp[\"CI95%\"].values[0],\n",
        "     partial_corr_temp[\"p-val\"].values[0],\n",
        "     partial_corr_temp[\"n\"].values[0]],\n",
        "\n",
        "    [\"Area-Prec\",\n",
        "     partial_corr_prec[\"r\"].values[0],\n",
        "     partial_corr_prec[\"CI95%\"].values[0],\n",
        "     partial_corr_prec[\"p-val\"].values[0],\n",
        "     partial_corr_prec[\"n\"].values[0]],\n",
        "\n",
        "    [\"Area-Prec Lagged-1\",\n",
        "     partial_corr_prec_lagged_1[\"r\"].values[0],\n",
        "     partial_corr_prec_lagged_1[\"CI95%\"].values[0],\n",
        "     partial_corr_prec_lagged_1[\"p-val\"].values[0],\n",
        "     partial_corr_prec_lagged_1[\"n\"].values[0]]\n",
        "]\n",
        "\n",
        "print(\"=== Partial Correlation Coefficient (PCC) Analysis for Area/NDCI-Climate ===\\n\")\n",
        "print(tabulate(table_data_area, headers=headers, tablefmt='simple', floatfmt='.4f'))\n",
        "\n",
        "\n",
        "# PCC results for NDCI\n",
        "table_data_ndci = [\n",
        "    [\"NDCI-Temp\",\n",
        "     partial_corr_temp_ndci[\"r\"].values[0],\n",
        "     partial_corr_temp_ndci[\"CI95%\"].values[0],\n",
        "     partial_corr_temp_ndci[\"p-val\"].values[0],\n",
        "     partial_corr_temp_ndci[\"n\"].values[0]],\n",
        "\n",
        "    [\"NDCI-Prec\",\n",
        "     partial_corr_prec_ndci[\"r\"].values[0],\n",
        "     partial_corr_prec_ndci[\"CI95%\"].values[0],\n",
        "     partial_corr_prec_ndci[\"p-val\"].values[0],\n",
        "     partial_corr_prec_ndci[\"n\"].values[0]],\n",
        "\n",
        "    [\"NDCI-Prec Lagged-1\",\n",
        "     partial_corr_prec_lagged_1_ndci[\"r\"].values[0],\n",
        "     partial_corr_prec_lagged_1_ndci[\"CI95%\"].values[0],\n",
        "     partial_corr_prec_lagged_1_ndci[\"p-val\"].values[0],\n",
        "     partial_corr_prec_lagged_1_ndci[\"n\"].values[0]]\n",
        "]\n",
        "\n",
        "# print(\"\\n=== Partial Correlation Coefficient (PCC) Analysis for NDCI-Climate ===\")\n",
        "print(tabulate(table_data_ndci, tablefmt='simple', floatfmt='.4f'))\n"
      ],
      "metadata": {
        "id": "kpFVJMZQOneM"
      },
      "execution_count": null,
      "outputs": []
    },
    {
      "cell_type": "code",
      "source": [
        "# Ordinary Linear Regression\n",
        "\n",
        "# Independent variables: Temperature + Precipitation\n",
        "# Dependent variable: Water Area\n",
        "\n",
        "X = df[['water_temp', 'water_prec']]\n",
        "X = sm.add_constant(X)  # Constant term\n",
        "y = df['water_area']\n",
        "\n",
        "model = sm.OLS(y, X).fit()\n",
        "# print(model.summary())\n",
        "print(f\"R²: {model.rsquared:.2f}\")\n",
        "# Example output\n",
        "# R²: 0.21"
      ],
      "metadata": {
        "id": "z0niSnCQQ8Aw"
      },
      "execution_count": null,
      "outputs": []
    },
    {
      "cell_type": "code",
      "source": [
        "# Re-run OLS with 1 Year Lagged Prec\n",
        "# Since we remove the first year align the data\n",
        "df_clean = df.dropna(subset=['water_temp', 'prec_lag1', 'water_area']).copy()\n",
        "\n",
        "# Cleaned model and new Ordinary Least Squares\n",
        "X = df_clean[['water_temp', 'prec_lag1']]\n",
        "X = sm.add_constant(X)\n",
        "y = df_clean['water_area']\n",
        "\n",
        "model_lag = sm.OLS(y, X).fit()\n",
        "print(f\"Prec 1-yr Lagged R²: {model_lag.rsquared:.2f}\")\n",
        "print(model_lag.summary())"
      ],
      "metadata": {
        "id": "NKPRY0wcRFLh"
      },
      "execution_count": null,
      "outputs": []
    },
    {
      "cell_type": "code",
      "source": [
        "# # Batch Export mndwi_water collection\n",
        "# CAUTION: Executing this part of code sent export request from GEE server\n",
        "# Therefore use with CAUTION! The status of export tasks can be seen at\n",
        "# GEE Task Manager (code.earthengine.google.com/tasks) or Cloud Console\n",
        "# Tasks page (console.cloud.google.com/earth-engine/tasks)\n",
        "# Tasks are exported to Google Drive folder indicated in export function\n",
        "\n",
        "# mndwi_water_list = mndwi_water.aggregate_array('year').getInfo()\n",
        "# mndwi_water_list_description = [f'mndwi_water_{year}' for year in mndwi_water_list]\n",
        "# print(mndwi_water_list_description)\n",
        "# export_image_collection(mndwi_water, mndwi_water_list_description)\n",
        "\n",
        "# # Batch Export mndwi_coll collection\n",
        "# mndwi_coll_list = mndwi_coll.aggregate_array('year').getInfo()\n",
        "# mndwi_coll_list_description = [f'mndwi_coll_{year}' for year in mndwi_coll_list]\n",
        "# print(mndwi_coll_list_description)\n",
        "# export_image_collection(mndwi_coll, mndwi_coll_list_description)"
      ],
      "metadata": {
        "colab": {
          "base_uri": "https://localhost:8080/",
          "height": 17
        },
        "id": "tBYfRY05t9O3",
        "outputId": "cb3b8cd1-ba0f-4b24-f223-d64e82c56a4c"
      },
      "execution_count": null,
      "outputs": [
        {
          "output_type": "display_data",
          "data": {
            "text/plain": [
              "<IPython.core.display.HTML object>"
            ],
            "text/html": [
              "\n",
              "            <style>\n",
              "                .geemap-dark {\n",
              "                    --jp-widgets-color: white;\n",
              "                    --jp-widgets-label-color: white;\n",
              "                    --jp-ui-font-color1: white;\n",
              "                    --jp-layout-color2: #454545;\n",
              "                    background-color: #383838;\n",
              "                }\n",
              "\n",
              "                .geemap-dark .jupyter-button {\n",
              "                    --jp-layout-color3: #383838;\n",
              "                }\n",
              "\n",
              "                .geemap-colab {\n",
              "                    background-color: var(--colab-primary-surface-color, white);\n",
              "                }\n",
              "\n",
              "                .geemap-colab .jupyter-button {\n",
              "                    --jp-layout-color3: var(--colab-primary-surface-color, white);\n",
              "                }\n",
              "            </style>\n",
              "            "
            ]
          },
          "metadata": {}
        }
      ]
    },
    {
      "cell_type": "code",
      "source": [
        "# Figure: Annual Water Area, NDCI, NDTI variations\n",
        "\n",
        "plt.figure(figsize=(10, 4))\n",
        "# NDCI/NDTI\n",
        "width = 0.4\n",
        "ax1 = plt.gca()\n",
        "ax1.grid(axis='y', color='black', linestyle='--', zorder=0)\n",
        "ax1.bar(np.array(years) - width/2, water_ndci, width, color='green', label='NDCI', zorder=2)\n",
        "ax1.bar(np.array(years) + width/2, water_ndti, width, color='orange', label='NDTI', zorder=2)\n",
        "ax1.set_ylabel('NDCI/NDTI', color='black')\n",
        "ax1.set_ylim(top=0.35)\n",
        "ax1.tick_params(axis='y', labelcolor='black')\n",
        "ax1.set_xticks(years)\n",
        "ax1.set_xticklabels(years, rotation=90, ha='center')\n",
        "\n",
        "# Water Area\n",
        "ax2 = ax1.twinx()\n",
        "ax2.plot(years, water_area, 'o-', color='blue', label='Water Area (ha)')\n",
        "ax2.set_xlabel('Year')\n",
        "ax2.set_ylabel('Water Area (ha)')\n",
        "ax2.set_ylim(bottom=0, top=3000)\n",
        "ax2.tick_params(axis='y')\n",
        "\n",
        "# Trend Line\n",
        "# slope, intercept = linregress(years, water_area)[0:2]\n",
        "# ax2.plot(years, intercept + slope*np.array(years), 'r--', label=f'Trend: {slope:.2f} ha/year')\n",
        "\n",
        "lines1, labels1 = ax1.get_legend_handles_labels()\n",
        "lines2, labels2 = ax2.get_legend_handles_labels()\n",
        "ax1.legend(lines1 + lines2, labels1 + labels2, loc='upper left', ncol=4)\n",
        "\n",
        "plt.tight_layout()\n",
        "plt.savefig('Annual_Water_Area_NDCI_NDTI.jpg', dpi=300, bbox_inches='tight')\n",
        "plt.show()"
      ],
      "metadata": {
        "id": "2Mf2RXnIyWVm"
      },
      "execution_count": null,
      "outputs": []
    },
    {
      "cell_type": "code",
      "source": [
        "# Figure: Annual MNDWI Otsu Threshold variations\n",
        "plt.figure(figsize=(6, 3))\n",
        "plt.plot(years, water_thrs, 'o-', linestyle='-', color='purple')\n",
        "# plt.title('Annual Water Threshold Variation')\n",
        "plt.xlabel('Year')\n",
        "plt.ylabel('MNDWI Otsu Threshold')\n",
        "plt.ylim(bottom=0.1, top=0.4)\n",
        "plt.grid(True, axis='y', linestyle=':', color='black')\n",
        "\n",
        "plt.tight_layout()\n",
        "plt.savefig('Annual Water Threshold.jpg', dpi=300)\n",
        "plt.show()"
      ],
      "metadata": {
        "id": "pFrHFDO4F8L0"
      },
      "execution_count": null,
      "outputs": []
    },
    {
      "cell_type": "code",
      "source": [
        "# Figure: Histograms of variables\n",
        "plt.figure(figsize=(6, 6))\n",
        "\n",
        "plt.subplot(2,2,1)\n",
        "sns.histplot(df['water_prec'], kde=True, color='blue')\n",
        "# plt.title('Total Precipitation')\n",
        "plt.xlabel('Precipitation')\n",
        "\n",
        "plt.subplot(2,2,2)\n",
        "sns.histplot(df['water_temp'], kde=True, color='red')\n",
        "# plt.title('Average Temperature')\n",
        "plt.xlabel('Temperature')\n",
        "\n",
        "plt.subplot(2,2,3)\n",
        "sns.histplot(df['water_ndti'], kde=True, color='orange')\n",
        "# plt.title('Average Turbidity')\n",
        "plt.xlabel('Turbidity')\n",
        "\n",
        "plt.subplot(2,2,4)\n",
        "sns.histplot(df['water_ndci'], kde=True, color='green')\n",
        "# plt.title('Average Chlorophyll')\n",
        "plt.xlabel('Chlorophyll')\n",
        "\n",
        "plt.tight_layout()\n",
        "plt.savefig('Variable Histograms.jpg', dpi=300)\n",
        "plt.show()"
      ],
      "metadata": {
        "id": "2z0vA8w4JdxM"
      },
      "execution_count": null,
      "outputs": []
    },
    {
      "cell_type": "code",
      "source": [
        "# Figure: Scatters of Variables\n",
        "plt.figure(figsize=(6, 6))\n",
        "\n",
        "plt.subplot(2, 2, 1)\n",
        "sns.scatterplot(x=df['water_area'], y=df['water_prec'])\n",
        "sns.regplot(\n",
        "    x=df['water_area'],\n",
        "    y=df['water_prec'],\n",
        "    scatter=True,\n",
        "    color='blue',\n",
        "    line_kws={'linestyle': '--'},\n",
        "    ci=95  # %95 Confidence Interval\n",
        ")\n",
        "# plt.title('Water Area-Prec')\n",
        "plt.xlabel('Water Area')\n",
        "plt.ylabel('Precipitation')\n",
        "\n",
        "plt.subplot(2, 2, 2)\n",
        "sns.scatterplot(x=df['water_area'], y=df['water_temp'])\n",
        "sns.regplot(\n",
        "    x=df['water_area'],\n",
        "    y=df['water_temp'],\n",
        "    scatter=True,\n",
        "    color='red',\n",
        "    line_kws={'linestyle': '--'},\n",
        "    ci=95  # %95 Confidence Interval\n",
        ")\n",
        "# plt.title('Water Area-Temperature')\n",
        "plt.xlabel('Water Area')\n",
        "plt.ylabel('Temperature')\n",
        "\n",
        "plt.subplot(2, 2, 3)\n",
        "sns.scatterplot(x=df['water_area'], y=df['water_ndti'])\n",
        "sns.regplot(\n",
        "    x=df['water_area'],\n",
        "    y=df['water_ndti'],\n",
        "    scatter=True,\n",
        "    color='orange',\n",
        "    line_kws={'linestyle': '--'},\n",
        "    ci=95  # %95 Confidence Interval\n",
        ")\n",
        "# plt.title('Water Area-Turbiditiy')\n",
        "plt.xlabel('Water Area')\n",
        "plt.ylabel('Turbiditiy')\n",
        "\n",
        "plt.subplot(2, 2, 4)\n",
        "sns.scatterplot(x=df['water_area'], y=df['water_ndci'])\n",
        "sns.regplot(\n",
        "    x=df['water_area'],\n",
        "    y=df['water_ndci'],\n",
        "    scatter=True,\n",
        "    color='green',\n",
        "    line_kws={'linestyle': '--'},\n",
        "    ci=95  # %95 Confidence Interval\n",
        ")\n",
        "# plt.title('Water Area-Chlorophyll')\n",
        "plt.xlabel('Water Area')\n",
        "plt.ylabel('Chlorophyll')\n",
        "\n",
        "plt.tight_layout()\n",
        "plt.savefig('Scatter Plot.jpg', dpi=300)\n",
        "plt.show()"
      ],
      "metadata": {
        "id": "rSCkuLq6Jfve"
      },
      "execution_count": null,
      "outputs": []
    }
  ]
}